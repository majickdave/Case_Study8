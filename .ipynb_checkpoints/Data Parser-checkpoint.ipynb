{
 "cells": [
  {
   "cell_type": "code",
   "execution_count": 1,
   "metadata": {
    "collapsed": true
   },
   "outputs": [],
   "source": [
    "import requests"
   ]
  },
  {
   "cell_type": "code",
   "execution_count": 2,
   "metadata": {
    "collapsed": true
   },
   "outputs": [],
   "source": [
    "urls = [\n",
    "    # 1999\n",
    "    ('http://web.archive.org/web/20130513044906/http://www.cherryblossom.org/cb99f.htm',\n",
    "     'http://web.archive.org/web/20130513054121/http://www.cherryblossom.org/cb99m.htm'),\n",
    "    \n",
    "    # 2000\n",
    "    ('http://web.archive.org/web/20130513033208/http://www.cherryblossom.org/cb003f.htm',\n",
    "     'http://web.archive.org/web/20130513052557/http://www.cherryblossom.org/cb003m.htm'),\n",
    "    \n",
    "    # 2001\n",
    "    ('http://web.archive.org/web/20130513050140/http://www.cherryblossom.org/results/2001/oof_f.html',\n",
    "     'http://web.archive.org/web/20130513051305/http://www.cherryblossom.org/results/2001/oof_m.html'),\n",
    "\n",
    "    # 2002\n",
    "    ('http://web.archive.org/web/20130513050740/http://www.cherryblossom.org/results/2002/ooff.htm',\n",
    "     'http://web.archive.org/web/20130513035656/http://www.cherryblossom.org/results/2002/oofm.htm'),\n",
    "    \n",
    "    # 2003\n",
    "    ('http://web.archive.org/web/20130513052130/http://www.cherryblossom.org/results/2003/CB03-F.HTM',\n",
    "     'http://web.archive.org/web/20130513032625/http://www.cherryblossom.org/results/2003/CB03-M.HTM'),\n",
    "    \n",
    "    # 2004\n",
    "    ('http://web.archive.org/web/20140509220411/http://www.cherryblossom.org:80/results/2004/women.htm',\n",
    "     'http://web.archive.org/web/20130827033641/http://www.cherryblossom.org/results/2004/men.htm'),\n",
    "    \n",
    "    # 2005\n",
    "    ('http://web.archive.org/web/20130513033038/http://www.cherryblossom.org/results/2005/CB05-F.htm',\n",
    "     'http://web.archive.org/web/20130513052333/http://www.cherryblossom.org/results/2005/CB05-M.htm'),\n",
    "    \n",
    "    # 2006\n",
    "    ('http://web.archive.org/web/20130513043049/http://www.cherryblossom.org/results/2006/women.htm',\n",
    "     'http://web.archive.org/web/20130513055354/http://www.cherryblossom.org/results/2006/men.htm'),\n",
    "    \n",
    "    # 2007\n",
    "    ('http://web.archive.org/web/20130513043433/http://www.cherryblossom.org/results/2007/women.htm',\n",
    "     'http://web.archive.org/web/20131022002409/http://www.cherryblossom.org/results/2007/men.htm'),\n",
    "    \n",
    "    # 2008\n",
    "    ('http://web.archive.org/web/20130513050209/http://www.cherryblossom.org/results/2008/women.htm',\n",
    "     'http://web.archive.org/web/20140418071040/http://www.cherryblossom.org:80/results/2008/men.htm'),\n",
    "\n",
    "    # 2009\n",
    "    ('http://web.archive.org/web/20130513040117/http://www.cherryblossom.org/results/2009/09cucb-F.htm',\n",
    "     'http://web.archive.org/web/20130513045336/http://www.cherryblossom.org/results/2009/09cucb-M.htm'),\n",
    "\n",
    "    # 2010\n",
    "    ('http://web.archive.org/web/20130722195717/http://www.cherryblossom.org/results/2010/2010cucb10m-f.htm',\n",
    "     'http://web.archive.org/web/20140414012406/http://www.cherryblossom.org:80/results/2010/2010cucb10m-m.htm'),\n",
    "    \n",
    "    # 2011\n",
    "    ('http://web.archive.org/web/20130722184556/http://www.cherryblossom.org/results/2011/2011cucb10m-f.htm',\n",
    "     'http://web.archive.org/web/20130513050347/http://www.cherryblossom.org/results/2011/2011cucb10m-m.htm'),\n",
    "\n",
    "    # 2012\n",
    "    ('http://web.archive.org/web/20130701002517/http://www.cherryblossom.org:80/results/2012/2012cucb10m-f.htm',\n",
    "     'http://web.archive.org/web/20130513034956/http://www.cherryblossom.org/results/2012/2012cucb10m-m.htm')\n",
    "]"
   ]
  },
  {
   "cell_type": "code",
   "execution_count": 3,
   "metadata": {},
   "outputs": [
    {
     "ename": "FileExistsError",
     "evalue": "[Errno 17] File exists: 'MenTxt'",
     "output_type": "error",
     "traceback": [
      "\u001b[0;31m---------------------------------------------------------------------------\u001b[0m",
      "\u001b[0;31mFileExistsError\u001b[0m                           Traceback (most recent call last)",
      "\u001b[0;32m<ipython-input-3-f217c02e97bb>\u001b[0m in \u001b[0;36m<module>\u001b[0;34m()\u001b[0m\n\u001b[1;32m      1\u001b[0m \u001b[0;32mimport\u001b[0m \u001b[0mos\u001b[0m\u001b[0;34m\u001b[0m\u001b[0m\n\u001b[1;32m      2\u001b[0m \u001b[0;34m\u001b[0m\u001b[0m\n\u001b[0;32m----> 3\u001b[0;31m \u001b[0mos\u001b[0m\u001b[0;34m.\u001b[0m\u001b[0mmkdir\u001b[0m\u001b[0;34m(\u001b[0m\u001b[0;34m'MenTxt'\u001b[0m\u001b[0;34m)\u001b[0m\u001b[0;34m\u001b[0m\u001b[0m\n\u001b[0m\u001b[1;32m      4\u001b[0m \u001b[0mos\u001b[0m\u001b[0;34m.\u001b[0m\u001b[0mmkdir\u001b[0m\u001b[0;34m(\u001b[0m\u001b[0;34m'WomenTxt'\u001b[0m\u001b[0;34m)\u001b[0m\u001b[0;34m\u001b[0m\u001b[0m\n",
      "\u001b[0;31mFileExistsError\u001b[0m: [Errno 17] File exists: 'MenTxt'"
     ]
    }
   ],
   "source": [
    "import os\n",
    "\n",
    "try:\n",
    "    os.mkdir('MenTxt')\n",
    "    os.mkdir('WomenTxt')\n",
    "except FileExistsError as e:\n",
    "    pass"
   ]
  },
  {
   "cell_type": "code",
   "execution_count": null,
   "metadata": {},
   "outputs": [],
   "source": [
    "from bs4 import BeautifulSoup\n",
    "\n",
    "for year, (women, men) in enumerate(urls):\n",
    "    y = year + 1999\n",
    "    \n",
    "    women_data = BeautifulSoup(requests.get(women).text, 'lxml')\n",
    "    men_data = BeautifulSoup(requests.get(men).text, 'lxml')\n",
    "    \n",
    "    if y <= 2004:\n",
    "        continue\n",
    "        \n",
    "    print(y)\n",
    "    \n",
    "    women_start = women_data.find_all('pre')[0]\n",
    "    men_start = men_data.find_all('pre')[0]\n",
    "    \n",
    "    women_txt = women_start.font.text if women_start.font != None else women_start.text\n",
    "    men_txt = men_start.font.text if men_start.font != None else men_start.text\n",
    "    \n",
    "    with open('WomenTxt/{}.txt'.format(y), 'w') as f:\n",
    "        f.write(women_txt)\n",
    "        \n",
    "    with open('MenTxt/{}.txt'.format(y), 'w') as f:\n",
    "        f.write(men_txt)"
   ]
  },
  {
   "cell_type": "code",
   "execution_count": null,
   "metadata": {},
   "outputs": [],
   "source": [
    "women_data.find_all('pre')"
   ]
  }
 ],
 "metadata": {
  "kernelspec": {
   "display_name": "Python 3",
   "language": "python",
   "name": "python3"
  },
  "language_info": {
   "codemirror_mode": {
    "name": "ipython",
    "version": 3
   },
   "file_extension": ".py",
   "mimetype": "text/x-python",
   "name": "python",
   "nbconvert_exporter": "python",
   "pygments_lexer": "ipython3",
   "version": "3.6.1"
  }
 },
 "nbformat": 4,
 "nbformat_minor": 2
}
